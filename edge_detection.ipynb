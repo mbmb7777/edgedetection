{
 "cells": [
  {
   "cell_type": "code",
   "execution_count": 1,
   "metadata": {},
   "outputs": [
    {
     "name": "stderr",
     "output_type": "stream",
     "text": [
      "Unable to init server: 연결할 수 없습니다: 연결이 거부됨\n",
      "\n",
      "(eog:2880626): Gtk-WARNING **: 09:26:03.753: cannot open display: \n"
     ]
    }
   ],
   "source": [
    "#배경제거 알고리즘 눈썹, 눈, 입술 날림\n",
    "\n",
    "from PIL import Image\n",
    " \n",
    "img = Image.open('pic2.jpg')\n",
    "img = img.convert(\"RGBA\")\n",
    "datas = img.getdata()\n",
    " \n",
    "newData = []\n",
    "cutOff = 175       #이 부분 조정 시 삭제하는 정도 조정 가능\n",
    " \n",
    "for item in datas:\n",
    "    if item[0] <= cutOff and item[1] <= cutOff and item[2] <= cutOff:\n",
    "        newData.append((255, 255, 255, 0))\n",
    "        # RGB의 각 요소가 모두 cutOff 이상이면 transparent하게 바꿔줍니다.\n",
    "    else:\n",
    "        newData.append(item)\n",
    "        # 나머지 요소는 변경하지 않습니다.\n",
    " \n",
    "img.putdata(newData)\n",
    "img.save(\"test2.png\", 'PNG') # PNG 포맷으로 저장합니다.\n",
    "img.show()"
   ]
  },
  {
   "cell_type": "code",
   "execution_count": 2,
   "metadata": {},
   "outputs": [
    {
     "ename": "ModuleNotFoundError",
     "evalue": "No module named 'cv2'",
     "output_type": "error",
     "traceback": [
      "\u001b[0;31m---------------------------------------------------------------------------\u001b[0m",
      "\u001b[0;31mModuleNotFoundError\u001b[0m                       Traceback (most recent call last)",
      "\u001b[0;32m/tmp/ipykernel_2880533/2026439351.py\u001b[0m in \u001b[0;36m<module>\u001b[0;34m\u001b[0m\n\u001b[1;32m      1\u001b[0m \u001b[0;31m#라플라시안 소블 필터 먹이기\u001b[0m\u001b[0;34m\u001b[0m\u001b[0;34m\u001b[0m\u001b[0m\n\u001b[1;32m      2\u001b[0m \u001b[0;34m\u001b[0m\u001b[0m\n\u001b[0;32m----> 3\u001b[0;31m \u001b[0;32mimport\u001b[0m \u001b[0mcv2\u001b[0m\u001b[0;34m\u001b[0m\u001b[0;34m\u001b[0m\u001b[0m\n\u001b[0m\u001b[1;32m      4\u001b[0m \u001b[0;34m\u001b[0m\u001b[0m\n\u001b[1;32m      5\u001b[0m \u001b[0msrc\u001b[0m \u001b[0;34m=\u001b[0m \u001b[0mcv2\u001b[0m\u001b[0;34m.\u001b[0m\u001b[0mimread\u001b[0m\u001b[0;34m(\u001b[0m\u001b[0;34m\"test2.png\"\u001b[0m\u001b[0;34m,\u001b[0m \u001b[0mcv2\u001b[0m\u001b[0;34m.\u001b[0m\u001b[0mIMREAD_COLOR\u001b[0m\u001b[0;34m)\u001b[0m\u001b[0;34m\u001b[0m\u001b[0;34m\u001b[0m\u001b[0m\n",
      "\u001b[0;31mModuleNotFoundError\u001b[0m: No module named 'cv2'"
     ]
    }
   ],
   "source": [
    "#라플라시안 소블 필터 먹이기\n",
    "\n",
    "import cv2\n",
    "\n",
    "src = cv2.imread(\"test2.png\", cv2.IMREAD_COLOR)\n",
    "gray = cv2.cvtColor(src, cv2.COLOR_BGR2GRAY)\n",
    "\n",
    "sobel = cv2.Sobel(gray, cv2.CV_8U, 1, 0, 3)\n",
    "laplacian = cv2.Laplacian(gray, cv2.CV_8U, ksize=1)\n",
    "#canny = cv2.Canny(src,70 ,100)\n",
    "\n",
    "\n",
    "cv2.imshow(\"sobel\", sobel)\n",
    "cv2.imshow(\"laplacian\", laplacian)\n",
    "#cv2.imshow(\"canny\", canny)\n",
    "cv2.waitKey()\n",
    "cv2.destroyAllWindows()\n",
    "cv2.imwrite(\"sobel.png\",sobel)\n",
    "cv2.imwrite(\"laplacian.png\",laplacian)\n",
    "#cv2.imwrite(\"canny.png\",canny)"
   ]
  },
  {
   "cell_type": "code",
   "execution_count": 100,
   "metadata": {},
   "outputs": [
    {
     "data": {
      "image/png": "[encoded data removed]",
      "text/plain": [
       "<Figure size 432x288 with 2 Axes>"
      ]
     },
     "metadata": {},
     "output_type": "display_data"
    }
   ],
   "source": [
    "##canny edge\n",
    "\n",
    "import cv2\n",
    "import numpy as np\n",
    "from matplotlib import pyplot as plt\n",
    "\n",
    "\n",
    "img = cv2.imread('sobel.png',0)\n",
    "edges = cv2.Canny(img,200,200)\n",
    "img2 = cv2.imread('laplacian.png',0)\n",
    "edges2 = cv2.Canny(img2,100,100)\n",
    "#img3 = cv2.imread('canny.png',0)\n",
    "#edges3 = cv2.Canny(img3,200,200)\n",
    "\n",
    "#plt.subplot(221),plt.imshow(img,cmap = 'gray')\n",
    "#plt.title('Original Image'), plt.xticks([]), plt.yticks([])\n",
    "plt.subplot(121),plt.imshow(edges,cmap = 'gray')\n",
    "plt.title('Edge Image'), plt.xticks([]), plt.yticks([])\n",
    "plt.subplot(122),plt.imshow(edges2,cmap = 'gray')\n",
    "plt.title('Edge Image'), plt.xticks([]), plt.yticks([])\n",
    "\n",
    "plt.show()\n",
    "cv2.imshow(\"sobelcanny.png\", edges)\n",
    "cv2.imwrite(\"sobelcanny.png\",edges)\n",
    "cv2.imshow(\"laplaciancanny.png\", edges2)\n",
    "cv2.imwrite(\"laplaciancanny.png\", edges2)\n",
    "#cv2.imshow(\"img6.png\", edges3)\n",
    "#cv2.imwrite(\"img6.png\", edges3)\n",
    "cv2.waitKey()\n",
    "cv2.destroyAllWindows()"
   ]
  },
  {
   "cell_type": "code",
   "execution_count": 4,
   "metadata": {},
   "outputs": [
    {
     "ename": "NameError",
     "evalue": "name 'cv2' is not defined",
     "output_type": "error",
     "traceback": [
      "\u001b[0;31m---------------------------------------------------------------------------\u001b[0m",
      "\u001b[0;31mNameError\u001b[0m                                 Traceback (most recent call last)",
      "\u001b[1;32m/home/woong/edge_detection.ipynb Cell 4'\u001b[0m in \u001b[0;36m<cell line: 6>\u001b[0;34m()\u001b[0m\n\u001b[1;32m      <a href='vscode-notebook-cell://ssh-remote%2B192.168.1.2/home/woong/edge_detection.ipynb#ch0000003vscode-remote?line=0'>1</a>\u001b[0m \u001b[39m#mopology(closing) 먹이기 점의 빈공간 채우기 \u001b[39;00m\n\u001b[1;32m      <a href='vscode-notebook-cell://ssh-remote%2B192.168.1.2/home/woong/edge_detection.ipynb#ch0000003vscode-remote?line=2'>3</a>\u001b[0m \u001b[39mimport\u001b[39;00m \u001b[39mnumpy\u001b[39;00m \u001b[39mas\u001b[39;00m \u001b[39mnp\u001b[39;00m\n\u001b[0;32m----> <a href='vscode-notebook-cell://ssh-remote%2B192.168.1.2/home/woong/edge_detection.ipynb#ch0000003vscode-remote?line=5'>6</a>\u001b[0m img \u001b[39m=\u001b[39m cv2\u001b[39m.\u001b[39mimread(\u001b[39m'\u001b[39m\u001b[39mlaplaciancanny.png\u001b[39m\u001b[39m'\u001b[39m,\u001b[39m0\u001b[39m)\n\u001b[1;32m      <a href='vscode-notebook-cell://ssh-remote%2B192.168.1.2/home/woong/edge_detection.ipynb#ch0000003vscode-remote?line=7'>8</a>\u001b[0m kernel \u001b[39m=\u001b[39m np\u001b[39m.\u001b[39mones((\u001b[39m2\u001b[39m, \u001b[39m2\u001b[39m), np\u001b[39m.\u001b[39muint8)\n\u001b[1;32m      <a href='vscode-notebook-cell://ssh-remote%2B192.168.1.2/home/woong/edge_detection.ipynb#ch0000003vscode-remote?line=8'>9</a>\u001b[0m result \u001b[39m=\u001b[39m cv2\u001b[39m.\u001b[39mmorphologyEx(img, cv2\u001b[39m.\u001b[39mMORPH_CLOSE, kernel)\n",
      "\u001b[0;31mNameError\u001b[0m: name 'cv2' is not defined"
     ]
    }
   ],
   "source": [
    "#mopology(closing) 먹이기 점의 빈공간 채우기 \n",
    "\n",
    "import numpy as np\n",
    "\n",
    "\n",
    "img = cv2.imread('laplaciancanny.png',0)\n",
    "\n",
    "kernel = np.ones((2, 2), np.uint8)\n",
    "result = cv2.morphologyEx(img, cv2.MORPH_CLOSE, kernel)\n",
    "\n",
    "cv2.imshow(\"Source\", img)\n",
    "cv2.imshow(\"Result\", result)\n",
    "cv2.imwrite(\"laplaciancannymopo.png\", result)\n",
    "\n",
    "cv2.waitKey(0)\n",
    "cv2.destroyAllWindows()"
   ]
  },
  {
   "cell_type": "code",
   "execution_count": 103,
   "metadata": {},
   "outputs": [
    {
     "data": {
      "text/plain": [
       "True"
      ]
     },
     "execution_count": 103,
     "metadata": {},
     "output_type": "execute_result"
    }
   ],
   "source": [
    "#흑백 반전(실제 모습과 비슷하게 구현)\n",
    "import cv2 \n",
    "img = cv2.imread(\"laplaciancannymopo.png\") \n",
    "out = img.copy() \n",
    "out = 255 - out \n",
    "cv2.imshow(\"original\", img) \n",
    "cv2.imshow(\"flip\", out) \n",
    "cv2.waitKey(0)\n",
    "cv2.imwrite(\"cannyblack.png\",out)\n"
   ]
  },
  {
   "cell_type": "code",
   "execution_count": 104,
   "metadata": {},
   "outputs": [
    {
     "name": "stdout",
     "output_type": "stream",
     "text": [
      "(130, 130, 3)\n",
      "-1\n"
     ]
    }
   ],
   "source": [
    "#관심영역(ROI)계산 왼쪽 볼\n",
    "\n",
    "import cv2\n",
    "import numpy as np\n",
    "\n",
    "img = cv2.imread('cannyblack.png')\n",
    "\n",
    "x=140; y=600; w=130; h=130        # roi 좌표\n",
    "roi = img[y:y+h, x:x+w]         # roi 지정        ---①\n",
    "\n",
    "print(roi.shape)                # roi shape, (50,50,3)\n",
    "cv2.rectangle(roi, (0,0), (h-1, w-1), (0,255,0)) # roi 전체에 사각형 그리기 ---②\n",
    "cv2.imshow(\"img\", img)\n",
    "cv2.imwrite(\"cannypart1.png\",roi)\n",
    "\n",
    "key = cv2.waitKey(0)\n",
    "print(key)\n",
    "cv2.destroyAllWindows()"
   ]
  },
  {
   "cell_type": "code",
   "execution_count": 94,
   "metadata": {},
   "outputs": [
    {
     "data": {
      "image/png": "[encoded data removed]",
      "text/plain": [
       "<Figure size 432x288 with 1 Axes>"
      ]
     },
     "metadata": {
      "needs_background": "light"
     },
     "output_type": "display_data"
    },
    {
     "name": "stdout",
     "output_type": "stream",
     "text": [
      "Height and Width :  130 130\n",
      "Total number of pixels in the image is = 16900\n",
      "Total number of black pixels = 3069\n",
      "Ratio of black to total is = 18.159763313609467\n"
     ]
    }
   ],
   "source": [
    "#픽셀비 계산(전체 픽셀 당 검은 픽셀 수)\n",
    "\n",
    "import cv2\n",
    "import numpy as np \n",
    "from matplotlib import pyplot as plt\n",
    "# load image\n",
    "image = cv2.imread('cannypart1.png',0)\n",
    "# plot the binary image\n",
    "imgplot = plt.imshow(image, \"gray\")\n",
    "plt.show()\n",
    "#Calculate percent of pixels that are black\n",
    "ret,thresh = cv2.threshold(image,0,230, cv2.THRESH_BINARY)\n",
    "height, width = image.shape\n",
    "print (\"Height and Width : \",height, width)\n",
    "size = image.size\n",
    "print (\"Total number of pixels in the image is =\", size)\n",
    "ChosenPix = size-cv2.countNonZero(image)\n",
    "print(\"Total number of black pixels =\", ChosenPix)\n",
    "Ratio = (ChosenPix/size)*100\n",
    "print(\"Ratio of black to total is =\", Ratio)"
   ]
  },
  {
   "cell_type": "code",
   "execution_count": null,
   "metadata": {},
   "outputs": [],
   "source": []
  }
 ],
 "metadata": {
  "interpreter": {
   "hash": "1448b48b023bcc9c3d4a79e814720a10ca6d4244f75e0f7ce4af58f96ba2b7d3"
  },
  "kernelspec": {
   "display_name": "Python 3.9.7 ('base')",
   "language": "python",
   "name": "python3"
  },
  "language_info": {
   "codemirror_mode": {
    "name": "ipython",
    "version": 3
   },
   "file_extension": ".py",
   "mimetype": "text/x-python",
   "name": "python",
   "nbconvert_exporter": "python",
   "pygments_lexer": "ipython3",
   "version": "3.9.7"
  }
 },
 "nbformat": 4,
 "nbformat_minor": 2
}
